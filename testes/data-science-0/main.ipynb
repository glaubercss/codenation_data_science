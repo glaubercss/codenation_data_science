{
 "cells": [
  {
   "cell_type": "markdown",
   "metadata": {},
   "source": [
    "# Desafio 1\n",
    "\n",
    "Para esse desafio, vamos trabalhar com o data set [Black Friday](https://www.kaggle.com/mehdidag/black-friday), que reúne dados sobre transações de compras em uma loja de varejo.\n",
    "\n",
    "Vamos utilizá-lo para praticar a exploração de data sets utilizando pandas. Você pode fazer toda análise neste mesmo notebook, mas as resposta devem estar nos locais indicados.\n",
    "\n",
    "> Obs.: Por favor, não modifique o nome das funções de resposta."
   ]
  },
  {
   "cell_type": "markdown",
   "metadata": {},
   "source": [
    "## _Set up_ da análise"
   ]
  },
  {
   "cell_type": "code",
   "execution_count": 1,
   "metadata": {
    "ExecuteTime": {
     "end_time": "2020-06-16T16:42:52.479064Z",
     "start_time": "2020-06-16T16:42:48.853566Z"
    }
   },
   "outputs": [],
   "source": [
    "import pandas as pd\n",
    "import numpy as np"
   ]
  },
  {
   "cell_type": "code",
   "execution_count": 2,
   "metadata": {
    "ExecuteTime": {
     "end_time": "2020-06-16T16:42:54.001984Z",
     "start_time": "2020-06-16T16:42:52.485909Z"
    }
   },
   "outputs": [],
   "source": [
    "black_friday = pd.read_csv(\"black_friday.csv\")"
   ]
  },
  {
   "cell_type": "markdown",
   "metadata": {},
   "source": [
    "## Inicie sua análise a partir daqui"
   ]
  },
  {
   "cell_type": "code",
   "execution_count": 3,
   "metadata": {
    "ExecuteTime": {
     "end_time": "2020-06-16T16:42:54.055292Z",
     "start_time": "2020-06-16T16:42:54.005545Z"
    }
   },
   "outputs": [],
   "source": [
    "df = black_friday.copy()"
   ]
  },
  {
   "cell_type": "code",
   "execution_count": 8,
   "metadata": {
    "ExecuteTime": {
     "end_time": "2020-06-16T01:44:12.144797Z",
     "start_time": "2020-06-16T01:44:12.048874Z"
    },
    "collapsed": true
   },
   "outputs": [
    {
     "data": {
      "text/html": [
       "<div>\n",
       "<style scoped>\n",
       "    .dataframe tbody tr th:only-of-type {\n",
       "        vertical-align: middle;\n",
       "    }\n",
       "\n",
       "    .dataframe tbody tr th {\n",
       "        vertical-align: top;\n",
       "    }\n",
       "\n",
       "    .dataframe thead th {\n",
       "        text-align: right;\n",
       "    }\n",
       "</style>\n",
       "<table border=\"1\" class=\"dataframe\">\n",
       "  <thead>\n",
       "    <tr style=\"text-align: right;\">\n",
       "      <th></th>\n",
       "      <th>User_ID</th>\n",
       "      <th>Product_ID</th>\n",
       "      <th>Gender</th>\n",
       "      <th>Age</th>\n",
       "      <th>Occupation</th>\n",
       "      <th>City_Category</th>\n",
       "      <th>Stay_In_Current_City_Years</th>\n",
       "      <th>Marital_Status</th>\n",
       "      <th>Product_Category_1</th>\n",
       "      <th>Product_Category_2</th>\n",
       "      <th>Product_Category_3</th>\n",
       "      <th>Purchase</th>\n",
       "    </tr>\n",
       "  </thead>\n",
       "  <tbody>\n",
       "    <tr>\n",
       "      <th>206136</th>\n",
       "      <td>1001769</td>\n",
       "      <td>P00249142</td>\n",
       "      <td>M</td>\n",
       "      <td>26-35</td>\n",
       "      <td>17</td>\n",
       "      <td>C</td>\n",
       "      <td>0</td>\n",
       "      <td>1</td>\n",
       "      <td>5</td>\n",
       "      <td>NaN</td>\n",
       "      <td>NaN</td>\n",
       "      <td>3521</td>\n",
       "    </tr>\n",
       "    <tr>\n",
       "      <th>359981</th>\n",
       "      <td>1001434</td>\n",
       "      <td>P00062842</td>\n",
       "      <td>F</td>\n",
       "      <td>0-17</td>\n",
       "      <td>10</td>\n",
       "      <td>A</td>\n",
       "      <td>0</td>\n",
       "      <td>0</td>\n",
       "      <td>1</td>\n",
       "      <td>2.0</td>\n",
       "      <td>13.0</td>\n",
       "      <td>4126</td>\n",
       "    </tr>\n",
       "    <tr>\n",
       "      <th>149956</th>\n",
       "      <td>1005137</td>\n",
       "      <td>P00042842</td>\n",
       "      <td>M</td>\n",
       "      <td>18-25</td>\n",
       "      <td>18</td>\n",
       "      <td>C</td>\n",
       "      <td>4+</td>\n",
       "      <td>0</td>\n",
       "      <td>5</td>\n",
       "      <td>NaN</td>\n",
       "      <td>NaN</td>\n",
       "      <td>8848</td>\n",
       "    </tr>\n",
       "    <tr>\n",
       "      <th>28220</th>\n",
       "      <td>1004310</td>\n",
       "      <td>P00255942</td>\n",
       "      <td>M</td>\n",
       "      <td>26-35</td>\n",
       "      <td>4</td>\n",
       "      <td>C</td>\n",
       "      <td>2</td>\n",
       "      <td>1</td>\n",
       "      <td>1</td>\n",
       "      <td>16.0</td>\n",
       "      <td>NaN</td>\n",
       "      <td>19006</td>\n",
       "    </tr>\n",
       "    <tr>\n",
       "      <th>256209</th>\n",
       "      <td>1003531</td>\n",
       "      <td>P00362342</td>\n",
       "      <td>F</td>\n",
       "      <td>26-35</td>\n",
       "      <td>11</td>\n",
       "      <td>C</td>\n",
       "      <td>1</td>\n",
       "      <td>1</td>\n",
       "      <td>5</td>\n",
       "      <td>NaN</td>\n",
       "      <td>NaN</td>\n",
       "      <td>7162</td>\n",
       "    </tr>\n",
       "    <tr>\n",
       "      <th>479395</th>\n",
       "      <td>1001810</td>\n",
       "      <td>P00370642</td>\n",
       "      <td>M</td>\n",
       "      <td>51-55</td>\n",
       "      <td>13</td>\n",
       "      <td>A</td>\n",
       "      <td>1</td>\n",
       "      <td>1</td>\n",
       "      <td>8</td>\n",
       "      <td>16.0</td>\n",
       "      <td>NaN</td>\n",
       "      <td>9709</td>\n",
       "    </tr>\n",
       "    <tr>\n",
       "      <th>179866</th>\n",
       "      <td>1003792</td>\n",
       "      <td>P0096642</td>\n",
       "      <td>M</td>\n",
       "      <td>26-35</td>\n",
       "      <td>6</td>\n",
       "      <td>A</td>\n",
       "      <td>1</td>\n",
       "      <td>0</td>\n",
       "      <td>2</td>\n",
       "      <td>3.0</td>\n",
       "      <td>4.0</td>\n",
       "      <td>9580</td>\n",
       "    </tr>\n",
       "    <tr>\n",
       "      <th>90756</th>\n",
       "      <td>1001944</td>\n",
       "      <td>P00335942</td>\n",
       "      <td>F</td>\n",
       "      <td>18-25</td>\n",
       "      <td>4</td>\n",
       "      <td>C</td>\n",
       "      <td>1</td>\n",
       "      <td>0</td>\n",
       "      <td>8</td>\n",
       "      <td>NaN</td>\n",
       "      <td>NaN</td>\n",
       "      <td>5839</td>\n",
       "    </tr>\n",
       "    <tr>\n",
       "      <th>23649</th>\n",
       "      <td>1003683</td>\n",
       "      <td>P00316842</td>\n",
       "      <td>M</td>\n",
       "      <td>26-35</td>\n",
       "      <td>2</td>\n",
       "      <td>B</td>\n",
       "      <td>3</td>\n",
       "      <td>1</td>\n",
       "      <td>4</td>\n",
       "      <td>5.0</td>\n",
       "      <td>NaN</td>\n",
       "      <td>2145</td>\n",
       "    </tr>\n",
       "    <tr>\n",
       "      <th>517584</th>\n",
       "      <td>1001699</td>\n",
       "      <td>P00189842</td>\n",
       "      <td>F</td>\n",
       "      <td>26-35</td>\n",
       "      <td>19</td>\n",
       "      <td>A</td>\n",
       "      <td>0</td>\n",
       "      <td>0</td>\n",
       "      <td>3</td>\n",
       "      <td>4.0</td>\n",
       "      <td>5.0</td>\n",
       "      <td>13602</td>\n",
       "    </tr>\n",
       "  </tbody>\n",
       "</table>\n",
       "</div>"
      ],
      "text/plain": [
       "        User_ID Product_ID Gender    Age  Occupation City_Category  \\\n",
       "206136  1001769  P00249142      M  26-35          17             C   \n",
       "359981  1001434  P00062842      F   0-17          10             A   \n",
       "149956  1005137  P00042842      M  18-25          18             C   \n",
       "28220   1004310  P00255942      M  26-35           4             C   \n",
       "256209  1003531  P00362342      F  26-35          11             C   \n",
       "479395  1001810  P00370642      M  51-55          13             A   \n",
       "179866  1003792   P0096642      M  26-35           6             A   \n",
       "90756   1001944  P00335942      F  18-25           4             C   \n",
       "23649   1003683  P00316842      M  26-35           2             B   \n",
       "517584  1001699  P00189842      F  26-35          19             A   \n",
       "\n",
       "       Stay_In_Current_City_Years  Marital_Status  Product_Category_1  \\\n",
       "206136                          0               1                   5   \n",
       "359981                          0               0                   1   \n",
       "149956                         4+               0                   5   \n",
       "28220                           2               1                   1   \n",
       "256209                          1               1                   5   \n",
       "479395                          1               1                   8   \n",
       "179866                          1               0                   2   \n",
       "90756                           1               0                   8   \n",
       "23649                           3               1                   4   \n",
       "517584                          0               0                   3   \n",
       "\n",
       "        Product_Category_2  Product_Category_3  Purchase  \n",
       "206136                 NaN                 NaN      3521  \n",
       "359981                 2.0                13.0      4126  \n",
       "149956                 NaN                 NaN      8848  \n",
       "28220                 16.0                 NaN     19006  \n",
       "256209                 NaN                 NaN      7162  \n",
       "479395                16.0                 NaN      9709  \n",
       "179866                 3.0                 4.0      9580  \n",
       "90756                  NaN                 NaN      5839  \n",
       "23649                  5.0                 NaN      2145  \n",
       "517584                 4.0                 5.0     13602  "
      ]
     },
     "execution_count": 8,
     "metadata": {},
     "output_type": "execute_result"
    }
   ],
   "source": [
    "df.sample(10)"
   ]
  },
  {
   "cell_type": "markdown",
   "metadata": {},
   "source": [
    "## Questão 1\n",
    "\n",
    "Quantas observações e quantas colunas há no dataset? Responda no formato de uma tuple `(n_observacoes, n_colunas)`."
   ]
  },
  {
   "cell_type": "code",
   "execution_count": 118,
   "metadata": {
    "ExecuteTime": {
     "end_time": "2020-06-16T03:27:03.594428Z",
     "start_time": "2020-06-16T03:27:03.589365Z"
    }
   },
   "outputs": [],
   "source": [
    "def q1():   \n",
    "    return df.shape"
   ]
  },
  {
   "cell_type": "markdown",
   "metadata": {},
   "source": [
    "## Questão 2\n",
    "\n",
    "Há quantas mulheres com idade entre 26 e 35 anos no dataset? Responda como um único escalar."
   ]
  },
  {
   "cell_type": "code",
   "execution_count": 117,
   "metadata": {
    "ExecuteTime": {
     "end_time": "2020-06-16T03:26:10.623387Z",
     "start_time": "2020-06-16T03:26:10.616114Z"
    }
   },
   "outputs": [],
   "source": [
    "def q2():\n",
    "    return df[ (df['Age'] == '26-35') & (df['Gender'] == 'F')]['User_ID'].count()"
   ]
  },
  {
   "cell_type": "markdown",
   "metadata": {},
   "source": [
    "## Questão 3\n",
    "\n",
    "Quantos usuários únicos há no dataset? Responda como um único escalar."
   ]
  },
  {
   "cell_type": "code",
   "execution_count": 19,
   "metadata": {
    "ExecuteTime": {
     "end_time": "2020-06-16T01:48:11.950765Z",
     "start_time": "2020-06-16T01:48:11.945408Z"
    }
   },
   "outputs": [],
   "source": [
    "def q3():\n",
    "    return df['User_ID'].nunique()"
   ]
  },
  {
   "cell_type": "markdown",
   "metadata": {},
   "source": [
    "## Questão 4\n",
    "\n",
    "Quantos tipos de dados diferentes existem no dataset? Responda como um único escalar."
   ]
  },
  {
   "cell_type": "code",
   "execution_count": 27,
   "metadata": {
    "ExecuteTime": {
     "end_time": "2020-06-16T01:51:43.574886Z",
     "start_time": "2020-06-16T01:51:43.570814Z"
    }
   },
   "outputs": [],
   "source": [
    "def q4():\n",
    "    return df.dtypes.nunique()"
   ]
  },
  {
   "cell_type": "markdown",
   "metadata": {},
   "source": [
    "## Questão 5\n",
    "\n",
    "Qual porcentagem dos registros possui ao menos um valor null (`None`, `ǸaN` etc)? Responda como um único escalar entre 0 e 1."
   ]
  },
  {
   "cell_type": "code",
   "execution_count": 46,
   "metadata": {
    "ExecuteTime": {
     "end_time": "2020-06-16T02:01:02.007725Z",
     "start_time": "2020-06-16T02:01:01.989377Z"
    }
   },
   "outputs": [],
   "source": [
    "def q5():\n",
    "    df['count_null'] = df.isna().sum(axis=1)\n",
    "    return df[df['count_null'] > 0]['User_ID'].count()/df.shape[0]"
   ]
  },
  {
   "cell_type": "markdown",
   "metadata": {},
   "source": [
    "## Questão 6\n",
    "\n",
    "Quantos valores null existem na variável (coluna) com o maior número de null? Responda como um único escalar."
   ]
  },
  {
   "cell_type": "code",
   "execution_count": 20,
   "metadata": {
    "ExecuteTime": {
     "end_time": "2020-06-16T17:25:57.779658Z",
     "start_time": "2020-06-16T17:25:57.774830Z"
    }
   },
   "outputs": [],
   "source": [
    "def q6():\n",
    "    \n",
    "    return df.isnull().sum().max()"
   ]
  },
  {
   "cell_type": "markdown",
   "metadata": {},
   "source": [
    "## Questão 7\n",
    "\n",
    "Qual o valor mais frequente (sem contar nulls) em `Product_Category_3`? Responda como um único escalar."
   ]
  },
  {
   "cell_type": "code",
   "execution_count": 116,
   "metadata": {
    "ExecuteTime": {
     "end_time": "2020-06-16T03:25:42.943107Z",
     "start_time": "2020-06-16T03:25:42.927301Z"
    }
   },
   "outputs": [],
   "source": [
    "def q7():\n",
    "    aux = df['Product_Category_3'].value_counts().head(1)\n",
    "    return aux.index[0]"
   ]
  },
  {
   "cell_type": "markdown",
   "metadata": {},
   "source": [
    "## Questão 8\n",
    "\n",
    "Qual a nova média da variável (coluna) `Purchase` após sua normalização? Responda como um único escalar."
   ]
  },
  {
   "cell_type": "code",
   "execution_count": 65,
   "metadata": {
    "ExecuteTime": {
     "end_time": "2020-06-16T02:28:51.360178Z",
     "start_time": "2020-06-16T02:28:51.351777Z"
    }
   },
   "outputs": [],
   "source": [
    "def q8():\n",
    "    df['purchase_normalized'] = (df['Purchase'] - df['Purchase'].min()) / \\\n",
    "                                ( df['Purchase'].max() - df['Purchase'].min())\n",
    "    \n",
    "    return df['purchase_normalized'].mean()"
   ]
  },
  {
   "cell_type": "markdown",
   "metadata": {},
   "source": [
    "## Questão 9\n",
    "\n",
    "Quantas ocorrências entre -1 e 1 inclusive existem da variáel `Purchase` após sua padronização? Responda como um único escalar."
   ]
  },
  {
   "cell_type": "code",
   "execution_count": 75,
   "metadata": {
    "ExecuteTime": {
     "end_time": "2020-06-16T02:37:39.794114Z",
     "start_time": "2020-06-16T02:37:39.780451Z"
    }
   },
   "outputs": [],
   "source": [
    "def q9():\n",
    "    df['purchase_satandadized'] = (df['Purchase'] - df['Purchase'].mean()) / df['Purchase'].std()\n",
    "    return df[(df['purchase_satandadized'] >= -1) & (df['purchase_satandadized'] <= 1)]['User_ID'].count()"
   ]
  },
  {
   "cell_type": "markdown",
   "metadata": {},
   "source": [
    "## Questão 10\n",
    "\n",
    "Podemos afirmar que se uma observação é null em `Product_Category_2` ela também o é em `Product_Category_3`? Responda com um bool (`True`, `False`)."
   ]
  },
  {
   "cell_type": "code",
   "execution_count": 147,
   "metadata": {
    "ExecuteTime": {
     "end_time": "2020-06-16T04:05:44.642628Z",
     "start_time": "2020-06-16T04:05:44.623281Z"
    }
   },
   "outputs": [],
   "source": [
    "def q10():\n",
    "    aux = df[df['Product_Category_2'].isnull()]\n",
    "    \n",
    "    return aux['Product_Category_2'].isnull().sum() == aux['Product_Category_3'].isnull().sum()"
   ]
  }
 ],
 "metadata": {
  "kernelspec": {
   "display_name": "Python 3",
   "language": "python",
   "name": "python3"
  },
  "language_info": {
   "codemirror_mode": {
    "name": "ipython",
    "version": 3
   },
   "file_extension": ".py",
   "mimetype": "text/x-python",
   "name": "python",
   "nbconvert_exporter": "python",
   "pygments_lexer": "ipython3",
   "version": "3.8.0"
  },
  "toc": {
   "base_numbering": 1,
   "nav_menu": {},
   "number_sections": true,
   "sideBar": true,
   "skip_h1_title": false,
   "title_cell": "Table of Contents",
   "title_sidebar": "Contents",
   "toc_cell": false,
   "toc_position": {},
   "toc_section_display": true,
   "toc_window_display": false
  }
 },
 "nbformat": 4,
 "nbformat_minor": 2
}
