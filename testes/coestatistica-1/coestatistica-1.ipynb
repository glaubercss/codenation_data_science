{
 "cells": [
  {
   "cell_type": "code",
   "execution_count": 21,
   "metadata": {
    "ExecuteTime": {
     "end_time": "2020-06-25T22:51:08.293010Z",
     "start_time": "2020-06-25T22:51:08.220694Z"
    }
   },
   "outputs": [],
   "source": [
    "import pandas as pd\n",
    "import statistics\n",
    "import json"
   ]
  },
  {
   "cell_type": "code",
   "execution_count": 5,
   "metadata": {
    "ExecuteTime": {
     "end_time": "2020-06-25T22:23:55.306070Z",
     "start_time": "2020-06-25T22:23:55.077648Z"
    }
   },
   "outputs": [],
   "source": [
    "df1=pd.read_csv('desafio1.csv')"
   ]
  },
  {
   "cell_type": "code",
   "execution_count": 6,
   "metadata": {
    "ExecuteTime": {
     "end_time": "2020-06-25T22:24:10.562437Z",
     "start_time": "2020-06-25T22:24:10.161667Z"
    }
   },
   "outputs": [
    {
     "name": "stdout",
     "output_type": "stream",
     "text": [
      "<class 'pandas.core.frame.DataFrame'>\n",
      "RangeIndex: 7000 entries, 0 to 6999\n",
      "Data columns (total 12 columns):\n",
      "RowNumber                   7000 non-null int64\n",
      "id                          7000 non-null object\n",
      "sobrenome                   7000 non-null object\n",
      "pontuacao_credito           7000 non-null int64\n",
      "estado_residencia           7000 non-null object\n",
      "genero                      7000 non-null object\n",
      "idade                       7000 non-null int64\n",
      "nivel_estabilidade          7000 non-null int64\n",
      "saldo_conta                 7000 non-null float64\n",
      "numero_produtos             7000 non-null int64\n",
      "possui_cartao_de_credito    7000 non-null int64\n",
      "membro_ativo                7000 non-null int64\n",
      "dtypes: float64(1), int64(7), object(4)\n",
      "memory usage: 656.3+ KB\n"
     ]
    }
   ],
   "source": [
    "df1.info()"
   ]
  },
  {
   "cell_type": "code",
   "execution_count": 50,
   "metadata": {
    "ExecuteTime": {
     "end_time": "2020-06-25T23:17:20.882914Z",
     "start_time": "2020-06-25T23:17:20.832750Z"
    }
   },
   "outputs": [
    {
     "data": {
      "text/html": [
       "<div>\n",
       "<style scoped>\n",
       "    .dataframe tbody tr th:only-of-type {\n",
       "        vertical-align: middle;\n",
       "    }\n",
       "\n",
       "    .dataframe tbody tr th {\n",
       "        vertical-align: top;\n",
       "    }\n",
       "\n",
       "    .dataframe thead th {\n",
       "        text-align: right;\n",
       "    }\n",
       "</style>\n",
       "<table border=\"1\" class=\"dataframe\">\n",
       "  <thead>\n",
       "    <tr style=\"text-align: right;\">\n",
       "      <th></th>\n",
       "      <th>moda</th>\n",
       "      <th>mediana</th>\n",
       "      <th>media</th>\n",
       "      <th>desvio_padrao</th>\n",
       "    </tr>\n",
       "  </thead>\n",
       "  <tbody>\n",
       "    <tr>\n",
       "      <th>PR</th>\n",
       "      <td>850</td>\n",
       "      <td>650</td>\n",
       "      <td>648.961294</td>\n",
       "      <td>98.607186</td>\n",
       "    </tr>\n",
       "    <tr>\n",
       "      <th>RS</th>\n",
       "      <td>850</td>\n",
       "      <td>650</td>\n",
       "      <td>651.105143</td>\n",
       "      <td>95.136598</td>\n",
       "    </tr>\n",
       "    <tr>\n",
       "      <th>SC</th>\n",
       "      <td>850</td>\n",
       "      <td>653</td>\n",
       "      <td>649.537653</td>\n",
       "      <td>97.233493</td>\n",
       "    </tr>\n",
       "  </tbody>\n",
       "</table>\n",
       "</div>"
      ],
      "text/plain": [
       "    moda  mediana       media  desvio_padrao\n",
       "PR   850      650  648.961294      98.607186\n",
       "RS   850      650  651.105143      95.136598\n",
       "SC   850      653  649.537653      97.233493"
      ]
     },
     "execution_count": 50,
     "metadata": {},
     "output_type": "execute_result"
    }
   ],
   "source": [
    "cols={#'estado_residencia' : 'UF',\n",
    "      '<lambda>' : 'moda',\n",
    "      'mean' : 'media',\n",
    "      'median' :'mediana',\n",
    "      'std' : 'desvio_padrao' \n",
    "     }\n",
    "answer = df1.groupby('estado_residencia')['pontuacao_credito']\\\n",
    "            .agg([lambda x: x.value_counts().index[0], 'median','mean', 'std'])\\\n",
    "            .rename(columns=cols)\\\n",
    "            .reset_index()\n",
    "answer = answer.set_index('estado_residencia')\n",
    "del answer.index.name\n",
    "answer"
   ]
  },
  {
   "cell_type": "code",
   "execution_count": 53,
   "metadata": {
    "ExecuteTime": {
     "end_time": "2020-06-25T23:22:25.300896Z",
     "start_time": "2020-06-25T23:22:25.285547Z"
    }
   },
   "outputs": [
    {
     "data": {
      "text/plain": [
       "'{\"PR\":{\"moda\":850,\"mediana\":650,\"media\":648.9612940497,\"desvio_padrao\":98.6071859131},\"RS\":{\"moda\":850,\"mediana\":650,\"media\":651.1051428571,\"desvio_padrao\":95.1365984138},\"SC\":{\"moda\":850,\"mediana\":653,\"media\":649.5376527423,\"desvio_padrao\":97.2334927934}}'"
      ]
     },
     "execution_count": 53,
     "metadata": {},
     "output_type": "execute_result"
    }
   ],
   "source": [
    "answer_json = answer.to_json(orient='index')\n",
    "answer_json"
   ]
  },
  {
   "cell_type": "code",
   "execution_count": 57,
   "metadata": {
    "ExecuteTime": {
     "end_time": "2020-06-25T23:26:45.603510Z",
     "start_time": "2020-06-25T23:26:45.594619Z"
    }
   },
   "outputs": [],
   "source": [
    "with open('data.json', 'w') as f:\n",
    "    json.dump(answer_json, f)"
   ]
  }
 ],
 "metadata": {
  "kernelspec": {
   "display_name": "Python 3",
   "language": "python",
   "name": "python3"
  },
  "language_info": {
   "codemirror_mode": {
    "name": "ipython",
    "version": 3
   },
   "file_extension": ".py",
   "mimetype": "text/x-python",
   "name": "python",
   "nbconvert_exporter": "python",
   "pygments_lexer": "ipython3",
   "version": "3.8.0"
  },
  "toc": {
   "base_numbering": 1,
   "nav_menu": {},
   "number_sections": true,
   "sideBar": true,
   "skip_h1_title": false,
   "title_cell": "Table of Contents",
   "title_sidebar": "Contents",
   "toc_cell": false,
   "toc_position": {},
   "toc_section_display": true,
   "toc_window_display": false
  }
 },
 "nbformat": 4,
 "nbformat_minor": 2
}
